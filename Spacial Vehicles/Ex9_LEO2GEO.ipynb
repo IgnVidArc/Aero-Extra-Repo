{
 "cells": [
  {
   "attachments": {},
   "cell_type": "markdown",
   "metadata": {},
   "source": [
    "### Problema 9: maniobra combinada GEO (Ex. Sep. 2010)\n",
    "Se está estudiando la viabilidad de emplear un cierto lanzador para poner en órbita un satélite\n",
    "geoestacionario (r_GEO = 42.164 km). Dicho lanzador es capaz de situar dicho satélite en una órbita\n",
    "circular de 300 km de altitud y con una inclinación de 10º.\n",
    "Para estudiar las implicaciones de la elección de este lanzador en el subsistema propulsivo se va\n",
    "a evaluar:\n",
    "\n",
    "- El presupuesto total de DV\n",
    "- El DV que tiene que ser capaz de proveer el sistema propulsivo en un solo impulso\n",
    "- El tiempo requerido para realizar cada maniobra, teniendo en cuenta que no se harán\n",
    "maniobras en órbitas sucesivas; se debe dejar una órbita completa sin maniobras antes\n",
    "de realizar la siguiente maniobra\n",
    "\n",
    "empleando varias estrategias de maniobras distintas.\n",
    "\n",
    "Para ello calcule con 4 cifras significativas cada uno de los valores que se indican en la\n",
    "siguiente tabla:\n",
    "\n",
    "    - Cambio de plano a 300 km, seguido de una transferencia a GEO\n",
    "    - Transferencia de Hohmann a altitud de GEO, seguido de un cambio de plano\n",
    "    - Maniobra combinada (plano y altitud) con todo el cambio de plano en el perigeo\n",
    "    - Maniobra combinada (plano y altitud) con todo el cambio de plano en el apogeo\n",
    "    - Maniobra combinada (plano y altitud) con todo el cambio de plano en el perigeo de 0,917º y en el apogeo de 9,083º\n",
    "\n",
    "Valores:\n",
    "\n",
    "    - DV total (km/s),\n",
    "    - DV_max en un único impulso (km/s),\n",
    "    - t requerido (h)"
   ]
  },
  {
   "cell_type": "code",
   "execution_count": 1,
   "metadata": {},
   "outputs": [],
   "source": [
    "import numpy as np\n",
    "import matplotlib.pyplot as plt"
   ]
  },
  {
   "cell_type": "code",
   "execution_count": 2,
   "metadata": {},
   "outputs": [],
   "source": [
    "mu = 0.3986e6   # km^3 s^-2\n",
    "rE = 6.378e3    # km\n",
    "# inicial and final conditions:\n",
    "ri = rE + 300   # km\n",
    "rf = 42_164     # km\n",
    "Vi = np.sqrt(mu/ri) # km/s\n",
    "Vf = np.sqrt(mu/rf) # km/s\n",
    "\n",
    "# inclinations (rad)\n",
    "i_i = 10 * np.pi/180\n",
    "i_f = 0\n",
    "Deltai = i_f - i_i\n",
    "# semi-major axis of trasnfer orbit\n",
    "at = (ri + rf)/2\n",
    "\n",
    "Vta = np.sqrt(2*mu/ri - mu/at)\n",
    "Vtb = np.sqrt(2*mu/rf - mu/at)\n",
    "\n",
    "TABLE = np.zeros((5,3))"
   ]
  },
  {
   "attachments": {},
   "cell_type": "markdown",
   "metadata": {},
   "source": [
    "### CASE 1:\n",
    "`Cambio de plano a 300 km, seguido de una transferencia a GEO`\n",
    "\n",
    "Cambias de plano en LEO. Esperas una vuelta en la circular. Das impulso de hohmann y al llegar al apogeo, recirculas.\n"
   ]
  },
  {
   "cell_type": "code",
   "execution_count": 3,
   "metadata": {},
   "outputs": [
    {
     "name": "stdout",
     "output_type": "stream",
     "text": [
      "DeltaV total (km/s) = 5.2393 \n",
      "DeltaV_max (km/s) = 2.4258 \n",
      "ttime (h) = 6.7836\n"
     ]
    }
   ],
   "source": [
    "# POINT A:\n",
    "# first impulse: change of plain:\n",
    "DeltaV_a_1 = 2*Vi*np.sin(Deltai/2)\n",
    "# second impulse: transfer orbit:\n",
    "DeltaV_a_2 = Vta - Vi\n",
    "# POINT B:\n",
    "DeltaV_b = Vf - Vtb\n",
    "\n",
    "# TOTAL IMPULSE:\n",
    "DeltaV_tot = abs(DeltaV_a_1) + abs(DeltaV_a_2) + abs(DeltaV_b)\n",
    "# MAX SINGLE IMPULSE:\n",
    "DeltaV_max = max(DeltaV_a_1, DeltaV_a_2, DeltaV_b)\n",
    "\n",
    "# TIME:\n",
    "t_cir = 2*np.pi * np.sqrt(ri**3 / mu)  # one complete LEO orbit\n",
    "t_trans = np.pi * np.sqrt(at**3 / mu)  # half transfer orbit\n",
    "time_hours = (t_cir + t_trans)/3600\n",
    "\n",
    "print(f'DeltaV total (km/s) = {DeltaV_tot:.4f} \\nDeltaV_max (km/s) = {DeltaV_max:.4f} \\nttime (h) = {time_hours:.4f}')\n",
    "TABLE[0,:] = [DeltaV_tot, DeltaV_max, time_hours]"
   ]
  },
  {
   "attachments": {},
   "cell_type": "markdown",
   "metadata": {},
   "source": [
    "### CASE 2:\n",
    "`Transferencia de Hohmann a altitud de GEO, seguido de un cambio de plano`\n",
    "\n",
    "Entendiéndolo como: impulso para cambio de altura, te esperas otra vuelta en la elíptica, recirculas en el apogeo. Luego, te esperas una vuelta en la GEO girada 10º y luego haces un tercer impulso para el cambio de plano.\n"
   ]
  },
  {
   "cell_type": "code",
   "execution_count": 6,
   "metadata": {},
   "outputs": [
    {
     "name": "stdout",
     "output_type": "stream",
     "text": [
      "DeltaV total (km/s) = 4.4286 \n",
      "DeltaV_max (km/s) = 2.4258 \n",
      "t (h) = 39.7594\n"
     ]
    }
   ],
   "source": [
    "# POINT A:\n",
    "# impulse: transfer orbit:\n",
    "DeltaV_a = Vta - Vi\n",
    "# POINT B:\n",
    "# impulse: recircularization:\n",
    "DeltaV_b_1 = Vf - Vtb\n",
    "# impulse: change of plain:\n",
    "DeltaV_b_2 = 2*Vf*np.sin(Deltai/2)\n",
    "\n",
    "# TOTAL IMPULSE:\n",
    "DeltaV_tot = abs(DeltaV_a) + abs(DeltaV_b_1) + abs(DeltaV_b_2)\n",
    "# MAX SINGLE IMPULSE:\n",
    "DeltaV_max = max(DeltaV_a, DeltaV_b_2, DeltaV_b_2)\n",
    "\n",
    "# Time:\n",
    "t_trans = 3/2 * 2*np.pi * np.sqrt(at**3 / mu)   # one and a half transfer orbits\n",
    "t_GEO = 2*np.pi * np.sqrt(rf**3 / mu)           # one complete GEO orbit\n",
    "time_hours = (t_trans + t_GEO)/3600\n",
    "print(f'DeltaV total (km/s) = {DeltaV_tot:.4f} \\nDeltaV_max (km/s) = {DeltaV_max:.4f} \\nt (h) = {time_hours:.4f}')\n",
    "TABLE[1,:] = [DeltaV_tot, DeltaV_max, time_hours]"
   ]
  },
  {
   "cell_type": "code",
   "execution_count": 5,
   "metadata": {},
   "outputs": [
    {
     "data": {
      "text/plain": [
       "3.0746645801808263"
      ]
     },
     "execution_count": 5,
     "metadata": {},
     "output_type": "execute_result"
    }
   ],
   "source": [
    "Vf"
   ]
  },
  {
   "attachments": {},
   "cell_type": "markdown",
   "metadata": {},
   "source": [
    "### CASE 3\n",
    "`Maniobra combinada (plano y altitud) con todo el cambio de plano en el perigeo`\n",
    "\n",
    "Combinada, todo el cambio de plano en el perigeo. Pero al llegar al apogeo de la de transferencia, te tienes que esperar otra vuelta entera."
   ]
  },
  {
   "cell_type": "code",
   "execution_count": 7,
   "metadata": {},
   "outputs": [
    {
     "name": "stdout",
     "output_type": "stream",
     "text": [
      "DeltaV total (km/s) = 4.3421 \n",
      "DeltaV_max (km/s) = 2.8753 \n",
      "t (h) = 15.8251\n"
     ]
    }
   ],
   "source": [
    "# POINT A:\n",
    "# combined impulse\n",
    "Phi_a = Deltai\n",
    "DeltaV_a = np.sqrt(Vi**2 + Vta**2 - 2*Vi*Vta*np.cos(Phi_a))\n",
    "\"\"\"In circular orbits and combined maneouvres, \\phi is equal to \\Deltai\"\"\"\n",
    "\n",
    "# POINT B:\n",
    "DeltaV_b = Vf - Vtb\n",
    "\n",
    "# TOTAL IMPULSE:\n",
    "DeltaV_tot = abs(DeltaV_a) + abs(DeltaV_b)\n",
    "# MAX SINGLE IMPULSE:\n",
    "DeltaV_max = max(DeltaV_a, DeltaV_b)\n",
    "\n",
    "# Time:\n",
    "t_ho = 3/2 * 2*np.pi * np.sqrt(at**3 / mu)  # one complete transfer orbit and half more\n",
    "time_hours = t_ho/3600\n",
    "print(f'DeltaV total (km/s) = {DeltaV_tot:.4f} \\nDeltaV_max (km/s) = {DeltaV_max:.4f} \\nt (h) = {time_hours:.4f}')\n",
    "TABLE[2,:] = [DeltaV_tot, DeltaV_max, time_hours]"
   ]
  },
  {
   "attachments": {},
   "cell_type": "markdown",
   "metadata": {},
   "source": [
    "### CASE 4:\n",
    "`Maniobra combinada (plano y altitud) con todo el cambio de plano en el apogeo`\n",
    "\n",
    "Combinada con todo el cambio de plano en el apogeo. Lo mismo, esperándote una vuelta más en la de trasnferencia."
   ]
  },
  {
   "cell_type": "code",
   "execution_count": 8,
   "metadata": {},
   "outputs": [
    {
     "name": "stdout",
     "output_type": "stream",
     "text": [
      "DeltaV total (km/s) = 3.9429 \n",
      "DeltaV_max (km/s) = 2.4258 \n",
      "t (h) = 15.8251\n"
     ]
    }
   ],
   "source": [
    "# POINT A:\n",
    "# hohmann impulse\n",
    "DeltaV_a = Vta - Vi\n",
    "# POINT B:\n",
    "# combined impulse:\n",
    "Phi_b = Deltai\n",
    "DeltaV_b = np.sqrt(Vtb**2 + Vf**2 - 2*Vtb*Vf*np.cos(Phi_b))\n",
    "\n",
    "# TOTAL IMPULSE:\n",
    "DeltaV_tot = abs(DeltaV_a) + abs(DeltaV_b)\n",
    "# MAX SINGLE IMPULSE:\n",
    "DeltaV_max = max(DeltaV_a, DeltaV_b)\n",
    "\n",
    "# Time:\n",
    "t_ho = 3/2 * 2*np.pi * np.sqrt(at**3 / mu)  # one complete transfer orbit and half more\n",
    "time_hours = t_ho/3600\n",
    "print(f'DeltaV total (km/s) = {DeltaV_tot:.4f} \\nDeltaV_max (km/s) = {DeltaV_max:.4f} \\nt (h) = {time_hours:.4f}')\n",
    "TABLE[3,:] = [DeltaV_tot, DeltaV_max, time_hours]"
   ]
  },
  {
   "attachments": {},
   "cell_type": "markdown",
   "metadata": {},
   "source": [
    "### CASE 5:\n",
    "`Maniobra combinada (plano y altitud) con todo el cambio de plano en el perigeo de 0,917º y en el apogeo de 9,083º`\n",
    "\n",
    "\"Maniobra combinada (plano y altitud) con el cambio de plano en el perigeo de 0,917º y en el apogeo de 9,083º.\""
   ]
  },
  {
   "cell_type": "code",
   "execution_count": 9,
   "metadata": {},
   "outputs": [
    {
     "name": "stdout",
     "output_type": "stream",
     "text": [
      "DeltaV total (km/s) = 3.9384 \n",
      "DeltaV_max (km/s) = 2.4299 \n",
      "t (h) = 15.8251\n"
     ]
    }
   ],
   "source": [
    "# POINT A:\n",
    "# combined impulse:\n",
    "Phi_a = 0.917 * np.pi/180\n",
    "DeltaV_a = np.sqrt(Vi**2 + Vta**2 - 2*Vi*Vta*np.cos(Phi_a))\n",
    "# combined impulse:\n",
    "Phi_b = 9.083 * np.pi/180\n",
    "DeltaV_b = np.sqrt(Vtb**2 + Vf**2 - 2*Vtb*Vf*np.cos(Phi_b))\n",
    "\n",
    "# TOTAL IMPULSE:\n",
    "DeltaV_tot = abs(DeltaV_a) + abs(DeltaV_b)\n",
    "# MAX SINGLE IMPULSE:\n",
    "DeltaV_max = max(DeltaV_a, DeltaV_b)\n",
    "\n",
    "# Time:\n",
    "t_ho = 3/2 * 2*np.pi * np.sqrt(at**3 / mu)  # one complete transfer orbit and half more\n",
    "time_hours = t_ho/3600\n",
    "print(f'DeltaV total (km/s) = {DeltaV_tot:.4f} \\nDeltaV_max (km/s) = {DeltaV_max:.4f} \\nt (h) = {time_hours:.4f}')\n",
    "TABLE[4,:] = [DeltaV_tot, DeltaV_max, time_hours]"
   ]
  },
  {
   "cell_type": "code",
   "execution_count": 12,
   "metadata": {},
   "outputs": [],
   "source": [
    "import pandas as pd\n",
    "df = pd.DataFrame(TABLE)#, col={'DeltaV', 'DeltaV', 'DeltaV'})\n"
   ]
  }
 ],
 "metadata": {
  "kernelspec": {
   "display_name": "base",
   "language": "python",
   "name": "python3"
  },
  "language_info": {
   "codemirror_mode": {
    "name": "ipython",
    "version": 3
   },
   "file_extension": ".py",
   "mimetype": "text/x-python",
   "name": "python",
   "nbconvert_exporter": "python",
   "pygments_lexer": "ipython3",
   "version": "3.10.9"
  },
  "orig_nbformat": 4
 },
 "nbformat": 4,
 "nbformat_minor": 2
}
